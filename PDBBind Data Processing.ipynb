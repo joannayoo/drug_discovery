{
 "cells": [
  {
   "cell_type": "markdown",
   "metadata": {},
   "source": [
    "## Preprocessing Binding Affinity from PDBBind Dataset"
   ]
  },
  {
   "cell_type": "code",
   "execution_count": null,
   "metadata": {},
   "outputs": [],
   "source": [
    "# Ki=IC50/(1+([L]/Kd)\n",
    "import os\n",
    "import re\n",
    "import numpy as np\n",
    "import pandas as pd\n",
    "\n",
    "\n",
    "_all_protein_ids = os.listdir('./data/pdbbind/v2018')\n",
    "\n",
    "with open('./data/pdbbind/v2018/index/INDEX_refined_data.2018') as f:\n",
    "    refinedid2kdki = {line.split()[0]: float(line.split()[3]) for line in f.readlines() if line[0] != \"#\"}\n",
    "unit2scale = {'mM': 1e-3, 'uM': 1e-6, 'nM': 1e-9, 'pM': 1e-9, 'fM': 1e-12}\n",
    "\n",
    "source2type = {'INDEX_general_PL.2018': 'protein-ligand', \n",
    "                  'INDEX_general_PN.2018': 'protein-nucleic acid', \n",
    "                  'INDEX_general_NL.2018': 'nucleic acid-ligand',\n",
    "                  'INDEX_general_PP.2018': 'protein-protein'}\n",
    "\n",
    "def is_protein_id(id, ids=_all_protein_ids):\n",
    "    return id in ids\n",
    "\n",
    "def is_refined_data(id, refined_data = refinedid2kdki):\n",
    "    return id in refined_data\n",
    "\n",
    "def process_index_file(index_file):\n",
    "    id2affinity = []\n",
    "    \n",
    "    with open(index_file, 'r') as f:\n",
    "        lines = f.readlines()\n",
    "  \n",
    "    for line in lines:\n",
    "        if not is_protein_id(line[:4]):\n",
    "            continue\n",
    "            \n",
    "        line = line.split('//')[0]\n",
    "\n",
    "        id, resolution, release_year, binding_data = line.split()\n",
    "        try: \n",
    "            resolution = float(resolution)\n",
    "        except: \n",
    "            resolution = None\n",
    "        try:\n",
    "            release_year = int(release_year)\n",
    "        except:\n",
    "            release_year = None\n",
    "        interaction_type = source2type[index_file.split('/')[-1]]\n",
    "        kdki = refinedid2kdki.get(id)\n",
    "\n",
    "        #id2affinity.append(dict(zip(['id', 'resolution', 'release_year', 'binding_data', 'source'], \n",
    "        #                            line.split() + [source])))\n",
    "        id2affinity.append(dict(zip(['id', 'resolution', 'release_year', 'binding_data', 'interaction_type', '-log(kd/ki)'], \n",
    "                                    [id, resolution, release_year, binding_data, interaction_type, kdki])))\n",
    "        \n",
    "    return id2affinity\n",
    "\n",
    "def get_binding_type(binding_data):\n",
    "    # Ki=IC50/(1+([L]/Kd)\n",
    "    if binding_data[:2].lower() == 'kd': return 'kd'\n",
    "    elif binding_data[:2].lower() == 'ki': return 'ki'\n",
    "    else: return 'ic50'\n",
    "    \n",
    "\n",
    "def get_neg_log_binding_affinity(binding_data):\n",
    "    binding_affinity_text = re.split('[\\=\\>\\<\\~]', binding_data)[-1]\n",
    "    num, unit = binding_affinity_text[:-2], binding_affinity_text[-2:]\n",
    "    \n",
    "    binding_affinity = float(num) * unit2scale.get(unit, 0)\n",
    "\n",
    "    return -np.log(binding_affinity) if binding_affinity > 0 else 0"
   ]
  },
  {
   "cell_type": "code",
   "execution_count": null,
   "metadata": {},
   "outputs": [],
   "source": [
    "id2affinity = process_index_file('./data/pdbbind/v2018/index/INDEX_general_PL.2018')\n",
    "#id2affinity = process_index_file('./data/pdbbind/v2018/index/INDEX_general_PN.2018')\n",
    "#id2affinity += process_index_file('./data/pdbbind/v2018/index/INDEX_general_PP.2018')\n",
    "#id2affinity += process_index_file('./data/pdbbind/v2018/index/INDEX_general_NL.2018')\n",
    "#id2affinity += process_index_file('./data/pdbbind/v2018/index/INDEX_refined_data.2018')\n",
    "\n",
    "binding_affinity_df = pd.DataFrame(id2affinity)\n",
    "binding_affinity_df['binding_type'] = binding_affinity_df['binding_data'].apply(get_binding_type)\n",
    "binding_affinity_df['binding_affinity'] = binding_affinity_df['binding_data'].apply(get_neg_log_binding_affinity)\n",
    "binding_affinity_df = binding_affinity_df.drop('binding_data', axis=1)\n",
    "binding_affinity_df.to_csv('./data/binding_affinity.csv')"
   ]
  },
  {
   "cell_type": "code",
   "execution_count": null,
   "metadata": {
    "scrolled": true
   },
   "outputs": [],
   "source": [
    "binding_affinity_df.describe()"
   ]
  },
  {
   "cell_type": "code",
   "execution_count": null,
   "metadata": {},
   "outputs": [],
   "source": [
    "import pandas as pd\n",
    "\n",
    "binding_affinity_df = pd.read_csv('./data/binding_affinity.csv')"
   ]
  },
  {
   "cell_type": "code",
   "execution_count": null,
   "metadata": {},
   "outputs": [],
   "source": [
    "binding_affinity_df[binding_affinity_df.binding_type=='ic50']"
   ]
  },
  {
   "cell_type": "code",
   "execution_count": null,
   "metadata": {},
   "outputs": [],
   "source": [
    "binding_affinity_df.describe()"
   ]
  },
  {
   "cell_type": "code",
   "execution_count": null,
   "metadata": {},
   "outputs": [],
   "source": [
    "%matplotlib inline\n",
    "import matplotlib.pyplot as plt\n",
    "plt.hist(binding_affinity_df[binding_affinity_df['-log(kd/ki)'].notna()]['binding_affinity'].tolist())"
   ]
  },
  {
   "cell_type": "code",
   "execution_count": null,
   "metadata": {},
   "outputs": [],
   "source": [
    "tmp = binding_affinity_df[binding_affinity_df.binding_type=='ic50']\n",
    "\n",
    "tmp = tmp[tmp.binding_affinity > 18.88 ]"
   ]
  },
  {
   "cell_type": "code",
   "execution_count": null,
   "metadata": {},
   "outputs": [],
   "source": [
    "plt.hist(binding_affinity_df[binding_affinity_df['binding_type'] == 'ic50']['binding_affinity'].tolist())"
   ]
  },
  {
   "cell_type": "code",
   "execution_count": null,
   "metadata": {},
   "outputs": [],
   "source": [
    "binding_affinity_df[binding_affinity_df['binding_type'] == 'ic50']['binding_affinity'].describe()"
   ]
  },
  {
   "cell_type": "markdown",
   "metadata": {},
   "source": [
    "## Visualize Protein "
   ]
  },
  {
   "cell_type": "code",
   "execution_count": null,
   "metadata": {},
   "outputs": [],
   "source": [
    "sample_protein_pdb = './data/pdbbind/v2018/1uu3/1uu3_protein_fixed.pdb'\n",
    "positive_ligand_pdb = './data/pdbbind/v2018/1uu3/1uu3_ligand.pdb'\n",
    "negative_ligand_pdb = './data/pdbbind/v2018/4mss/4mss_ligand.pdb'"
   ]
  },
  {
   "cell_type": "code",
   "execution_count": null,
   "metadata": {},
   "outputs": [],
   "source": [
    "# This is an interesting package that turns protein to graph. Study it.\n",
    "\n",
    "#import proteingraph\n",
    "\n",
    "#p = proteingraph.ProteinGraph(sample_protein_pdb)"
   ]
  },
  {
   "cell_type": "markdown",
   "metadata": {},
   "source": [
    "### As a graph"
   ]
  },
  {
   "cell_type": "code",
   "execution_count": null,
   "metadata": {},
   "outputs": [],
   "source": [
    "%matplotlib inline\n",
    "from rdkit.Chem.Draw import IPythonConsole\n",
    "import networkx as nx\n",
    "from rdkit.Chem.rdmolfiles import MolFromPDBFile\n",
    "import matplotlib.pyplot as plt\n",
    "\n",
    "def mol_to_nx(mol):\n",
    "    \n",
    "    \"\"\"\n",
    "    https://github.com/maxhodak/keras-molecules/pull/32/commits/dbbb790e74e406faa70b13e8be8104d9e938eba2\n",
    "    \"\"\"\n",
    "    G = nx.Graph()\n",
    "\n",
    "    for atom in mol.GetAtoms():\n",
    "        G.add_node(atom.GetIdx(),\n",
    "                   atomic_num=atom.GetAtomicNum(),\n",
    "                   formal_charge=atom.GetFormalCharge(),\n",
    "                   chiral_tag=atom.GetChiralTag(),\n",
    "                   hybridization=atom.GetHybridization(),\n",
    "                   num_explicit_hs=atom.GetNumExplicitHs(),\n",
    "                   is_aromatic=atom.GetIsAromatic())\n",
    "    for bond in mol.GetBonds():\n",
    "        G.add_edge(bond.GetBeginAtomIdx(),\n",
    "                   bond.GetEndAtomIdx(),\n",
    "                   bond_type=bond.GetBondType())\n",
    "    return G\n",
    "\n",
    "protein = MolFromPDBFile(sample_protein_pdb)\n",
    "protein_graph = mol_to_nx(protein)\n",
    "pos = nx.spring_layout(protein_graph) \n",
    "nx.draw(protein_graph, width=1, node_size=2)"
   ]
  },
  {
   "cell_type": "markdown",
   "metadata": {},
   "source": [
    "### 3D Representation of Protein-Ligand Complex"
   ]
  },
  {
   "cell_type": "code",
   "execution_count": null,
   "metadata": {},
   "outputs": [],
   "source": [
    "%load_ext autoreload\n",
    "%autoreload 2\n",
    "%pdb off\n",
    "# set DISPLAY = True when running tutorial\n",
    "DISPLAY = False\n",
    "# set PARALLELIZE to true if you want to use ipyparallel\n",
    "PARALLELIZE = False\n",
    "import warnings\n",
    "warnings.filterwarnings('ignore')\n"
   ]
  },
  {
   "cell_type": "code",
   "execution_count": null,
   "metadata": {},
   "outputs": [],
   "source": [
    "import nglview\n",
    "import tempfile\n",
    "import os\n",
    "import mdtraj as md\n",
    "import numpy as np\n",
    "#import deepchem.utils.visualization\n",
    "#from deepchem.utils.visualization import combine_mdtraj, visualize_complex, convert_lines_to_mdtraj\n",
    "\n",
    "# https://deepchem.io/docs/notebooks/protein_ligand_complex_notebook.html\n",
    "\n",
    "\n",
    "\"\"\"\n",
    "def convert_lines_to_mdtraj(molecule_lines):\n",
    "    molecule_lines = molecule_lines.strip('[').strip(']').replace(\"'\",\"\").replace(\"\\\\n\", \"\").split(\", \")\n",
    "    tempdir = tempfile.mkdtemp()\n",
    "    molecule_file = os.path.join(tempdir, \"molecule.pdb\")\n",
    "    with open(molecule_file, \"w\") as f:\n",
    "        for line in molecule_lines:\n",
    "            f.write(\"%s\\n\" % line)\n",
    "    molecule_mdtraj = md.load(molecule_file)\n",
    "    return molecule_mdtraj\n",
    "\"\"\"\n",
    "def visualize_protein(molecule_mdtraj):\n",
    "    traj = nglview.MDTrajTrajectory(molecule_mdtraj) \n",
    "    ngltraj = nglview.NGLWidget( traj )\n",
    "    \n",
    "    return ngltraj\n",
    "\n",
    "def visualize_ligand(ligand_mdtraj):\n",
    "    traj = nglview.MDTrajTrajectory( ligand_mdtraj ) # load file from RCSB PDB\n",
    "    ngltraj = nglview.NGLWidget( traj )\n",
    "    ngltraj.representations = [\n",
    "        { \"type\": \"ball+stick\", \"params\": {\"sele\": \"all\" } } ]\n",
    "    return ngltraj\n",
    "\n",
    "def combine_mdtraj(protein, ligand):\n",
    "    chain = protein.topology.add_chain()\n",
    "    residue = protein.topology.add_residue(\"LIG\", chain, resSeq=1)\n",
    "    for atom in ligand.topology.atoms:\n",
    "        protein.topology.add_atom(atom.name, atom.element, residue)\n",
    "    protein.xyz = np.hstack([protein.xyz, ligand.xyz])\n",
    "    protein.topology.create_standard_bonds()\n",
    "\n",
    "    return protein\n",
    "    \n",
    "def visualize_complex(complex_mdtraj):\n",
    "    ligand_atoms = [a.index for a in complex_mdtraj.topology.atoms if \"LIG\" in str(a.residue)]\n",
    "    binding_pocket_atoms = md.compute_neighbors(complex_mdtraj, 0.5, ligand_atoms)[0]\n",
    "    binding_pocket_residues = list(set([complex_mdtraj.topology.atom(a).residue.resSeq for a in binding_pocket_atoms]))\n",
    "    binding_pocket_residues = [str(r) for r in binding_pocket_residues]\n",
    "    binding_pocket_residues = \" or \".join(binding_pocket_residues)\n",
    "\n",
    "    traj = nglview.MDTrajTrajectory( complex_mdtraj ) # load file from RCSB PDB\n",
    "    ngltraj = nglview.NGLWidget( traj )\n",
    "    ngltraj.representations = [\n",
    "    { \"type\": \"cartoon\", \"params\": {\n",
    "    \"sele\": \"protein\", \"color\": \"residueindex\"\n",
    "    } },\n",
    "    { \"type\": \"licorice\", \"params\": {\n",
    "    \"sele\": \"(not hydrogen) and (%s)\" %  binding_pocket_residues\n",
    "    } },\n",
    "    { \"type\": \"ball+stick\", \"params\": {\n",
    "    \"sele\": \"LIG\"\n",
    "    } }\n",
    "    ]\n",
    "    return ngltraj\n",
    "#first_protein, first_ligand = raw_dataset.iloc[0][\"protein_pdb\"], raw_dataset.iloc[0][\"ligand_pdb\"]\n",
    "\n",
    "#protein_mdtraj = convert_lines_to_mdtraj(first_protein)\n",
    "#ligand_mdtraj = convert_lines_to_mdtraj(first_ligand)\n",
    "#complex_mdtraj = combine_mdtraj(protein_mdtraj, ligand_mdtraj)"
   ]
  },
  {
   "cell_type": "code",
   "execution_count": null,
   "metadata": {},
   "outputs": [],
   "source": [
    "protein_traj = md.load(sample_protein_pdb)\n",
    "pos_lig_traj = md.load(positive_ligand_pdb)\n",
    "neg_lig_traj = md.load(negative_ligand_pdb)"
   ]
  },
  {
   "cell_type": "code",
   "execution_count": null,
   "metadata": {},
   "outputs": [],
   "source": [
    "visualize_protein(protein_traj)"
   ]
  },
  {
   "cell_type": "code",
   "execution_count": null,
   "metadata": {},
   "outputs": [],
   "source": [
    "visualize_ligand(pos_lig_traj)"
   ]
  },
  {
   "cell_type": "code",
   "execution_count": null,
   "metadata": {},
   "outputs": [],
   "source": [
    "visualize_ligand(neg_lig_traj)"
   ]
  },
  {
   "cell_type": "code",
   "execution_count": null,
   "metadata": {},
   "outputs": [],
   "source": [
    "# combination of protein and positive ligand\n",
    "visualize_complex(combine_mdtraj(md.load(sample_protein_pdb),md.load(positive_ligand_pdb)))"
   ]
  },
  {
   "cell_type": "code",
   "execution_count": null,
   "metadata": {},
   "outputs": [],
   "source": [
    "# combination of protein and negative ligand\n",
    "visualize_complex(combine_mdtraj(md.load(sample_protein_pdb), md.load(negative_ligand_pdb)))"
   ]
  },
  {
   "cell_type": "code",
   "execution_count": null,
   "metadata": {},
   "outputs": [],
   "source": [
    "# cat 1uu3_protein.pdb 1uu3_ligand.pdb | grep -v 'HOH' > 1uu3_complex.pdb\n",
    "\n",
    "sample_docked = './data/1uu3_complex.pdb'\n",
    "\n",
    "docked_traj = md.load(sample_docked)\n",
    "visualize_complex(docked_traj)"
   ]
  },
  {
   "cell_type": "code",
   "execution_count": null,
   "metadata": {
    "scrolled": true
   },
   "outputs": [],
   "source": [
    "from utils import pdb2graph\n",
    "from utils import get_p2l_distance_matrix\n",
    "from utils import build_adjacency_matrix\n",
    "\n",
    "protein, ligand, compl = pdb2graph('1y20')\n",
    "\n",
    "nodes_p, adj_p = protein\n",
    "nodes_l, adj_l = ligand\n",
    "nodes_c, adj_c = compl\n",
    "\n",
    "print(nodes_p.shape)\n",
    "print(nodes_l.shape)\n",
    "print(nodes_c.shape)\n"
   ]
  },
  {
   "cell_type": "code",
   "execution_count": null,
   "metadata": {},
   "outputs": [],
   "source": [
    "build_adjacency_matrix(adj_l)"
   ]
  },
  {
   "cell_type": "code",
   "execution_count": null,
   "metadata": {},
   "outputs": [],
   "source": [
    "\n",
    "get_p2l_distance_matrix(adj_p, adj_l, adj_c)"
   ]
  },
  {
   "cell_type": "code",
   "execution_count": null,
   "metadata": {},
   "outputs": [],
   "source": [
    "from Bio.PDB import PDBParser\n",
    "import numpy as np\n",
    "\n",
    "def get_centroid(pdbid):\n",
    "    ligand_pdb = \"./data/pdbbind/v2018/{}/{}_ligand.pdb\".format(pdbid, pdbid)\n",
    "\n",
    "    p = PDBParser()\n",
    "    s = p.get_structure(pdbid, ligand_pdb)                    \n",
    "\n",
    "\n",
    "    model = [m for m in s][0]\n",
    "    chain = [c for c in model][0]\n",
    "    residue = [r for r in chain][0]\n",
    "\n",
    "    mat = np.array([atom.get_vector().get_array() for atom in residue])\n",
    "    \n",
    "    return np.mean(mat, axis=0)\n"
   ]
  },
  {
   "cell_type": "code",
   "execution_count": null,
   "metadata": {},
   "outputs": [],
   "source": [
    "centroid = get_centroid(\"1uu3\")"
   ]
  },
  {
   "cell_type": "code",
   "execution_count": null,
   "metadata": {},
   "outputs": [],
   "source": [
    "def get_distance_from_ligand_centroid(pdbid):\n",
    "    pocket_pdb = \"./data/pdbbind/v2018/{}/{}_pocket.pdb\".format(pdbid, pdbid)\n",
    "\n",
    "    centroid = get_centroid(pdbid)\n",
    "    p = PDBParser()\n",
    "    s = p.get_structure(pdbid.upper(), pocket_pdb)\n",
    "    \n",
    "    model = [m for m in s][0]\n",
    "    chain = [c for c in model][0]\n",
    "    residue = [r for r in chain][0]\n",
    "    \n",
    "    vectors = [atom.get_vector().get_array() for atom in residue]\n",
    "    \n",
    "    return [np.linalg.norm(vector - centroid) for vector in vectors]"
   ]
  },
  {
   "cell_type": "code",
   "execution_count": null,
   "metadata": {},
   "outputs": [],
   "source": [
    "pdbid = '2y2i'\n",
    "get_distance_from_ligand_centroid(\"2y2i\")"
   ]
  },
  {
   "cell_type": "code",
   "execution_count": null,
   "metadata": {},
   "outputs": [],
   "source": [
    "distance_affinity = []\n",
    "for i in binding_affinity_df[binding_affinity_df[\"-log(kd/ki)\"].notna()].index.tolist():\n",
    "    pdbid = binding_affinity_df.loc[i, 'id']\n",
    "    try:\n",
    "        distance_affinity.append((np.mean(get_distance_from_ligand_centroid(pdbid)), \n",
    "                                  binding_affinity_df.loc[i, '-log(kd/ki)']))\n",
    "    except:\n",
    "        continue\n",
    "    "
   ]
  },
  {
   "cell_type": "code",
   "execution_count": null,
   "metadata": {},
   "outputs": [],
   "source": [
    "distance = [da[0] for da in distance_affinity]\n",
    "affinity = [da[1] for da in distance_affinity]\n",
    "\n",
    "plt.plot(distance, affinity, 'o')"
   ]
  },
  {
   "cell_type": "code",
   "execution_count": null,
   "metadata": {},
   "outputs": [],
   "source": [
    "mol = MolFromPDBFile('./data/1uu3_complex.pdb')"
   ]
  },
  {
   "cell_type": "markdown",
   "metadata": {
    "collapsed": true
   },
   "source": [
    "## Debugging MDTraj Sanitary Issues"
   ]
  },
  {
   "cell_type": "code",
   "execution_count": null,
   "metadata": {},
   "outputs": [],
   "source": [
    "import mdtraj as md\n",
    "import os\n",
    "import numpy as np\n",
    "\n",
    "data_dir = './data/pdbbind/v2018'\n",
    "pdbid = '1yhm'\n",
    "\n",
    "protein_pdb = os.path.join(data_dir, pdbid, '{}_protein.pdb'.format(pdbid))\n",
    "ligand_pdb = os.path.join(data_dir, pdbid, '{}_ligand.pdb'.format(pdbid))\n",
    "\n",
    "\n",
    "protein_traj = md.load(protein_pdb)\n",
    "ligand_traj = md.load(ligand_pdb)"
   ]
  },
  {
   "cell_type": "code",
   "execution_count": null,
   "metadata": {},
   "outputs": [],
   "source": [
    "from collections import Counter\n",
    "chain = protein_traj.topology.add_chain()\n",
    "residue = protein_traj.topology.add_residue(\"LIG\", chain, resSeq=1)\n",
    "for atom in ligand_traj.topology.atoms:\n",
    "    protein_traj.topology.add_atom(atom.name, atom.element, residue)\n",
    "\n",
    "bond_source = [str(b[0]) for b in protein_traj.topology.bonds]\n",
    "bond_dest = [str(b[1]) for b in protein_traj.topology.bonds]\n",
    "\n",
    "protein_traj.xyz = np.hstack([protein_traj.xyz, ligand_traj.xyz])\n",
    "protein_traj.topology.create_standard_bonds()\n",
    "after = [b for b in protein_traj.topology.bonds]\n",
    "bond_source_after = [str(b[0]) for b in protein_traj.topology.bonds]\n",
    "bond_dest_after = [str(b[1]) for b in protein_traj.topology.bonds]\n"
   ]
  },
  {
   "cell_type": "code",
   "execution_count": null,
   "metadata": {},
   "outputs": [],
   "source": [
    "source_over = {b:c for b, c in Counter(bond_source).items() if c > 4}\n",
    "dest_over = {b:c for b, c in Counter(bond_dest).items() if c > 4}\n",
    "\n",
    "source_over_after = {b:c for b, c in Counter(bond_source_after).items() if c > 4}\n",
    "dest_over_after = {b:c for b, c in Counter(bond_dest_after).items() if c > 4}"
   ]
  },
  {
   "cell_type": "code",
   "execution_count": null,
   "metadata": {
    "scrolled": true
   },
   "outputs": [],
   "source": [
    "source_over"
   ]
  },
  {
   "cell_type": "code",
   "execution_count": null,
   "metadata": {},
   "outputs": [],
   "source": [
    "compl = pdb.select('not water')"
   ]
  },
  {
   "cell_type": "code",
   "execution_count": null,
   "metadata": {},
   "outputs": [],
   "source": [
    "compl"
   ]
  },
  {
   "cell_type": "code",
   "execution_count": null,
   "metadata": {},
   "outputs": [],
   "source": [
    "from io import StringIO\n",
    "from rdkit.Chem import AllChem\n",
    "output = StringIO()\n",
    "#writePDBStream(output, compl)\n",
    "writePDB('./data/1s9v_compl_prody.pdb', compl)\n",
    "#pdb_string = output.getvalue()\n",
    "#rd_mol = AllChem.MolFromPDBBlock(pdb_string)\n"
   ]
  },
  {
   "cell_type": "code",
   "execution_count": null,
   "metadata": {},
   "outputs": [],
   "source": [
    "visualize_protein(md.load('./data/1s9v_compl_prody.pdb'))"
   ]
  },
  {
   "cell_type": "code",
   "execution_count": null,
   "metadata": {},
   "outputs": [],
   "source": [
    "traj = md.load('./data/1s9v_compl_prody.pdb')"
   ]
  },
  {
   "cell_type": "code",
   "execution_count": null,
   "metadata": {},
   "outputs": [],
   "source": [
    "visualize_complex(traj)"
   ]
  },
  {
   "cell_type": "code",
   "execution_count": null,
   "metadata": {},
   "outputs": [],
   "source": []
  }
 ],
 "metadata": {
  "kernelspec": {
   "display_name": "gnn",
   "language": "python",
   "name": "gnn"
  },
  "language_info": {
   "codemirror_mode": {
    "name": "ipython",
    "version": 3
   },
   "file_extension": ".py",
   "mimetype": "text/x-python",
   "name": "python",
   "nbconvert_exporter": "python",
   "pygments_lexer": "ipython3",
   "version": "3.6.9"
  }
 },
 "nbformat": 4,
 "nbformat_minor": 2
}
